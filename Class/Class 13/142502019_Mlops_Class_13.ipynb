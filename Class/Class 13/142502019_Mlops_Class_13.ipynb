{
  "nbformat": 4,
  "nbformat_minor": 0,
  "metadata": {
    "colab": {
      "provenance": []
    },
    "kernelspec": {
      "name": "python3",
      "display_name": "Python 3"
    },
    "language_info": {
      "name": "python"
    }
  },
  "cells": [
    {
      "cell_type": "code",
      "execution_count": 1,
      "metadata": {
        "colab": {
          "base_uri": "https://localhost:8080/"
        },
        "id": "bgH5JdHqFv6p",
        "outputId": "d6a579b3-ea23-4889-b863-8ec9272e8024"
      },
      "outputs": [
        {
          "output_type": "stream",
          "name": "stdout",
          "text": [
            "Install complete.\n"
          ]
        }
      ],
      "source": [
        "# Install required packages. In Colab this will install into the runtime.\n",
        "!pip install --quiet wandb scikit-learn pandas matplotlib\n",
        "\n",
        "print('Install complete.')"
      ]
    },
    {
      "cell_type": "code",
      "source": [
        "!pip install numpy"
      ],
      "metadata": {
        "colab": {
          "base_uri": "https://localhost:8080/"
        },
        "id": "rh9tz-V8G_sR",
        "outputId": "be9d94bf-dc59-4f2e-97f2-b0c773eec132"
      },
      "execution_count": 7,
      "outputs": [
        {
          "output_type": "stream",
          "name": "stdout",
          "text": [
            "Requirement already satisfied: numpy in /usr/local/lib/python3.12/dist-packages (2.0.2)\n"
          ]
        }
      ]
    },
    {
      "cell_type": "code",
      "source": [
        "# Imports and quick version check\n",
        "import sys\n",
        "import sklearn\n",
        "import pandas as pd\n",
        "import wandb\n",
        "\n",
        "print('Python:', sys.version.splitlines()[0])\n",
        "print('scikit-learn:', sklearn.__version__)\n",
        "print('pandas:', pd.__version__)\n",
        "print('wandb import ok')"
      ],
      "metadata": {
        "colab": {
          "base_uri": "https://localhost:8080/"
        },
        "id": "6EzV2GRtGC-0",
        "outputId": "70924644-7d3d-4c9f-95cf-ae4e8b0fd7b2"
      },
      "execution_count": 2,
      "outputs": [
        {
          "output_type": "stream",
          "name": "stdout",
          "text": [
            "Python: 3.12.12 (main, Oct 10 2025, 08:52:57) [GCC 11.4.0]\n",
            "scikit-learn: 1.6.1\n",
            "pandas: 2.2.2\n",
            "wandb import ok\n"
          ]
        }
      ]
    },
    {
      "cell_type": "code",
      "source": [
        "# Login to W&B (interactive). In Colab this will prompt for your API key.\n",
        "import wandb\n",
        "wandb.login()\n",
        "print('If login succeeded, you will see your W&B username above.')"
      ],
      "metadata": {
        "colab": {
          "base_uri": "https://localhost:8080/",
          "height": 245
        },
        "id": "D99Y3evfGHmx",
        "outputId": "c43d1759-04a3-42ac-9df8-fe52c0822be0"
      },
      "execution_count": 3,
      "outputs": [
        {
          "output_type": "stream",
          "name": "stderr",
          "text": [
            "/usr/local/lib/python3.12/dist-packages/notebook/notebookapp.py:191: SyntaxWarning: invalid escape sequence '\\/'\n",
            "  | |_| | '_ \\/ _` / _` |  _/ -_)\n"
          ]
        },
        {
          "output_type": "display_data",
          "data": {
            "text/plain": [
              "<IPython.core.display.Javascript object>"
            ],
            "application/javascript": [
              "\n",
              "        window._wandbApiKey = new Promise((resolve, reject) => {\n",
              "            function loadScript(url) {\n",
              "            return new Promise(function(resolve, reject) {\n",
              "                let newScript = document.createElement(\"script\");\n",
              "                newScript.onerror = reject;\n",
              "                newScript.onload = resolve;\n",
              "                document.body.appendChild(newScript);\n",
              "                newScript.src = url;\n",
              "            });\n",
              "            }\n",
              "            loadScript(\"https://cdn.jsdelivr.net/npm/postmate/build/postmate.min.js\").then(() => {\n",
              "            const iframe = document.createElement('iframe')\n",
              "            iframe.style.cssText = \"width:0;height:0;border:none\"\n",
              "            document.body.appendChild(iframe)\n",
              "            const handshake = new Postmate({\n",
              "                container: iframe,\n",
              "                url: 'https://wandb.ai/authorize'\n",
              "            });\n",
              "            const timeout = setTimeout(() => reject(\"Couldn't auto authenticate\"), 5000)\n",
              "            handshake.then(function(child) {\n",
              "                child.on('authorize', data => {\n",
              "                    clearTimeout(timeout)\n",
              "                    resolve(data)\n",
              "                });\n",
              "            });\n",
              "            })\n",
              "        });\n",
              "    "
            ]
          },
          "metadata": {}
        },
        {
          "output_type": "stream",
          "name": "stderr",
          "text": [
            "\u001b[34m\u001b[1mwandb\u001b[0m: Logging into wandb.ai. (Learn how to deploy a W&B server locally: https://wandb.me/wandb-server)\n",
            "\u001b[34m\u001b[1mwandb\u001b[0m: You can find your API key in your browser here: https://wandb.ai/authorize\n",
            "wandb: Paste an API key from your profile and hit enter:"
          ]
        },
        {
          "name": "stdout",
          "output_type": "stream",
          "text": [
            " ··········\n"
          ]
        },
        {
          "output_type": "stream",
          "name": "stderr",
          "text": [
            "\u001b[34m\u001b[1mwandb\u001b[0m: \u001b[33mWARNING\u001b[0m If you're specifying your api key in code, ensure this code is not shared publicly.\n",
            "\u001b[34m\u001b[1mwandb\u001b[0m: \u001b[33mWARNING\u001b[0m Consider setting the WANDB_API_KEY environment variable, or running `wandb login` from the command line.\n",
            "\u001b[34m\u001b[1mwandb\u001b[0m: No netrc file found, creating one.\n",
            "\u001b[34m\u001b[1mwandb\u001b[0m: Appending key for api.wandb.ai to your netrc file: /root/.netrc\n",
            "\u001b[34m\u001b[1mwandb\u001b[0m: Currently logged in as: \u001b[33m142502019\u001b[0m (\u001b[33mir2023\u001b[0m) to \u001b[32mhttps://api.wandb.ai\u001b[0m. Use \u001b[1m`wandb login --relogin`\u001b[0m to force relogin\n"
          ]
        },
        {
          "output_type": "stream",
          "name": "stdout",
          "text": [
            "If login succeeded, you will see your W&B username above.\n"
          ]
        }
      ]
    },
    {
      "cell_type": "code",
      "source": [
        "from sklearn.datasets import load_iris\n",
        "from sklearn.model_selection import train_test_split\n",
        "from sklearn.ensemble import RandomForestClassifier\n",
        "from sklearn.metrics import accuracy_score, classification_report, confusion_matrix\n",
        "import numpy as np\n",
        "import pandas as pd\n",
        "\n",
        "# Load dataset\n",
        "data = load_iris()\n",
        "X = data['data']\n",
        "y = data['target']\n",
        "feature_names = data['feature_names']\n",
        "\n",
        "# Train-test split\n",
        "X_train, X_test, y_train, y_test = train_test_split(X, y, test_size=0.3, random_state=42)\n",
        "\n",
        "print('Shapes: X_train', X_train.shape, 'X_test', X_test.shape)"
      ],
      "metadata": {
        "colab": {
          "base_uri": "https://localhost:8080/"
        },
        "id": "B9uTgnksGKxP",
        "outputId": "b173fe4d-8314-41a9-debe-753a5dfae1e4"
      },
      "execution_count": 4,
      "outputs": [
        {
          "output_type": "stream",
          "name": "stdout",
          "text": [
            "Shapes: X_train (105, 4) X_test (45, 4)\n"
          ]
        }
      ]
    },
    {
      "cell_type": "code",
      "source": [
        "import matplotlib.pyplot as plt\n",
        "import io\n",
        "from PIL import Image\n",
        "\n",
        "def plot_confusion_matrix(cm, labels):\n",
        "    fig, ax = plt.subplots(figsize=(4,4))\n",
        "    ax.imshow(cm, interpolation='nearest')\n",
        "    ax.set_title('Confusion matrix')\n",
        "    ax.set_xticks(range(len(labels)))\n",
        "    ax.set_yticks(range(len(labels)))\n",
        "    ax.set_xticklabels(labels, rotation=45)\n",
        "    ax.set_yticklabels(labels)\n",
        "    for i in range(len(labels)):\n",
        "        for j in range(len(labels)):\n",
        "            ax.text(j, i, str(cm[i, j]), ha='center', va='center')\n",
        "    plt.tight_layout()\n",
        "    return fig\n",
        "\n",
        "def train_and_log(run_name, n_estimators=50, random_state=42, simulate_shift=False, entity=None, project='mlops-performance-monitoring'):\n",
        "    \"\"\"Train RandomForest and log to W&B.\n",
        "    If simulate_shift=True, a small shift is added to X_test to emulate data drift.\n",
        "    \"\"\"\n",
        "    run = wandb.init(project=project, name=run_name, entity=entity, reinit=True)\n",
        "    wandb.config.update({'n_estimators': n_estimators, 'random_state': random_state})\n",
        "\n",
        "    clf = RandomForestClassifier(n_estimators=n_estimators, random_state=random_state)\n",
        "    clf.fit(X_train, y_train)\n",
        "    if simulate_shift:\n",
        "        X_eval = X_test + np.random.normal(loc=0.5, scale=0.1, size=X_test.shape)\n",
        "    else:\n",
        "        X_eval = X_test\n",
        "    preds = clf.predict(X_eval)\n",
        "    acc = accuracy_score(y_test, preds)\n",
        "    cr = classification_report(y_test, preds, output_dict=True)\n",
        "    cm = confusion_matrix(y_test, preds)\n",
        "\n",
        "    # Log metrics\n",
        "    wandb.log({'accuracy': acc})\n",
        "    # Log classification report as metrics\n",
        "    for k, v in cr.items():\n",
        "        if k.isdigit():\n",
        "            wandb.log({f'class_{k}_precision': v['precision'], f'class_{k}_recall': v['recall'], f'class_{k}_f1': v['f1-score']})\n",
        "\n",
        "    # Confusion matrix image\n",
        "    fig = plot_confusion_matrix(cm, labels=data['target_names'])\n",
        "    buf = io.BytesIO()\n",
        "    fig.savefig(buf, format='png')\n",
        "    buf.seek(0)\n",
        "    # Convert BytesIO to PIL Image before logging\n",
        "    img = Image.open(buf)\n",
        "    wandb.log({\"confusion_matrix\": wandb.Image(img)})\n",
        "    plt.close(fig)\n",
        "\n",
        "    # Log model as artifact\n",
        "    artifact = wandb.Artifact('rf-model', type='model')\n",
        "    import joblib\n",
        "    joblib.dump(clf, 'rf_model.joblib')\n",
        "    artifact.add_file('rf_model.joblib')\n",
        "    run.log_artifact(artifact)\n",
        "\n",
        "    print(f'Run {run_name} logged. Accuracy = {acc:.4f}')\n",
        "\n",
        "    return acc, run"
      ],
      "metadata": {
        "id": "ab7WkqdkGV7G"
      },
      "execution_count": 11,
      "outputs": []
    },
    {
      "cell_type": "code",
      "source": [
        "# Baseline run\n",
        "baseline_acc,run = train_and_log('baseline-run', n_estimators=50, random_state=42)\n",
        "run.finish()\n",
        "baseline_acc"
      ],
      "metadata": {
        "colab": {
          "base_uri": "https://localhost:8080/",
          "height": 1000
        },
        "id": "AHvw_srVGYmz",
        "outputId": "619e96fc-2491-4656-b260-9fa925239321"
      },
      "execution_count": 12,
      "outputs": [
        {
          "output_type": "display_data",
          "data": {
            "text/plain": [
              "<IPython.core.display.HTML object>"
            ],
            "text/html": [
              "Finishing previous runs because reinit is set to True."
            ]
          },
          "metadata": {}
        },
        {
          "output_type": "display_data",
          "data": {
            "text/plain": [
              "<IPython.core.display.HTML object>"
            ],
            "text/html": []
          },
          "metadata": {}
        },
        {
          "output_type": "display_data",
          "data": {
            "text/plain": [
              "<IPython.core.display.HTML object>"
            ],
            "text/html": [
              "<br>    <style><br>        .wandb-row {<br>            display: flex;<br>            flex-direction: row;<br>            flex-wrap: wrap;<br>            justify-content: flex-start;<br>            width: 100%;<br>        }<br>        .wandb-col {<br>            display: flex;<br>            flex-direction: column;<br>            flex-basis: 100%;<br>            flex: 1;<br>            padding: 10px;<br>        }<br>    </style><br><div class=\"wandb-row\"><div class=\"wandb-col\"><h3>Run history:</h3><br/><table class=\"wandb\"><tr><td>accuracy</td><td>▁</td></tr><tr><td>class_0_f1</td><td>▁</td></tr><tr><td>class_0_precision</td><td>▁</td></tr><tr><td>class_0_recall</td><td>▁</td></tr><tr><td>class_1_f1</td><td>▁</td></tr><tr><td>class_1_precision</td><td>▁</td></tr><tr><td>class_1_recall</td><td>▁</td></tr><tr><td>class_2_f1</td><td>▁</td></tr><tr><td>class_2_precision</td><td>▁</td></tr><tr><td>class_2_recall</td><td>▁</td></tr></table><br/></div><div class=\"wandb-col\"><h3>Run summary:</h3><br/><table class=\"wandb\"><tr><td>accuracy</td><td>1</td></tr><tr><td>class_0_f1</td><td>1</td></tr><tr><td>class_0_precision</td><td>1</td></tr><tr><td>class_0_recall</td><td>1</td></tr><tr><td>class_1_f1</td><td>1</td></tr><tr><td>class_1_precision</td><td>1</td></tr><tr><td>class_1_recall</td><td>1</td></tr><tr><td>class_2_f1</td><td>1</td></tr><tr><td>class_2_precision</td><td>1</td></tr><tr><td>class_2_recall</td><td>1</td></tr></table><br/></div></div>"
            ]
          },
          "metadata": {}
        },
        {
          "output_type": "display_data",
          "data": {
            "text/plain": [
              "<IPython.core.display.HTML object>"
            ],
            "text/html": [
              " View run <strong style=\"color:#cdcd00\">baseline-run</strong> at: <a href='https://wandb.ai/ir2023/mlops-performance-monitoring/runs/hpgid05z' target=\"_blank\">https://wandb.ai/ir2023/mlops-performance-monitoring/runs/hpgid05z</a><br> View project at: <a href='https://wandb.ai/ir2023/mlops-performance-monitoring' target=\"_blank\">https://wandb.ai/ir2023/mlops-performance-monitoring</a><br>Synced 5 W&B file(s), 1 media file(s), 0 artifact file(s) and 0 other file(s)"
            ]
          },
          "metadata": {}
        },
        {
          "output_type": "display_data",
          "data": {
            "text/plain": [
              "<IPython.core.display.HTML object>"
            ],
            "text/html": [
              "Find logs at: <code>./wandb/run-20251028_043919-hpgid05z/logs</code>"
            ]
          },
          "metadata": {}
        },
        {
          "output_type": "display_data",
          "data": {
            "text/plain": [
              "<IPython.core.display.HTML object>"
            ],
            "text/html": []
          },
          "metadata": {}
        },
        {
          "output_type": "display_data",
          "data": {
            "text/plain": [
              "<IPython.core.display.HTML object>"
            ],
            "text/html": [
              "Tracking run with wandb version 0.22.2"
            ]
          },
          "metadata": {}
        },
        {
          "output_type": "display_data",
          "data": {
            "text/plain": [
              "<IPython.core.display.HTML object>"
            ],
            "text/html": [
              "Run data is saved locally in <code>/content/wandb/run-20251028_044213-oak8elts</code>"
            ]
          },
          "metadata": {}
        },
        {
          "output_type": "display_data",
          "data": {
            "text/plain": [
              "<IPython.core.display.HTML object>"
            ],
            "text/html": [
              "Syncing run <strong><a href='https://wandb.ai/ir2023/mlops-performance-monitoring/runs/oak8elts' target=\"_blank\">baseline-run</a></strong> to <a href='https://wandb.ai/ir2023/mlops-performance-monitoring' target=\"_blank\">Weights & Biases</a> (<a href='https://wandb.me/developer-guide' target=\"_blank\">docs</a>)<br>"
            ]
          },
          "metadata": {}
        },
        {
          "output_type": "display_data",
          "data": {
            "text/plain": [
              "<IPython.core.display.HTML object>"
            ],
            "text/html": [
              " View project at <a href='https://wandb.ai/ir2023/mlops-performance-monitoring' target=\"_blank\">https://wandb.ai/ir2023/mlops-performance-monitoring</a>"
            ]
          },
          "metadata": {}
        },
        {
          "output_type": "display_data",
          "data": {
            "text/plain": [
              "<IPython.core.display.HTML object>"
            ],
            "text/html": [
              " View run at <a href='https://wandb.ai/ir2023/mlops-performance-monitoring/runs/oak8elts' target=\"_blank\">https://wandb.ai/ir2023/mlops-performance-monitoring/runs/oak8elts</a>"
            ]
          },
          "metadata": {}
        },
        {
          "output_type": "stream",
          "name": "stdout",
          "text": [
            "Run baseline-run logged. Accuracy = 1.0000\n"
          ]
        },
        {
          "output_type": "display_data",
          "data": {
            "text/plain": [
              "<IPython.core.display.HTML object>"
            ],
            "text/html": []
          },
          "metadata": {}
        },
        {
          "output_type": "display_data",
          "data": {
            "text/plain": [
              "<IPython.core.display.HTML object>"
            ],
            "text/html": [
              "<br>    <style><br>        .wandb-row {<br>            display: flex;<br>            flex-direction: row;<br>            flex-wrap: wrap;<br>            justify-content: flex-start;<br>            width: 100%;<br>        }<br>        .wandb-col {<br>            display: flex;<br>            flex-direction: column;<br>            flex-basis: 100%;<br>            flex: 1;<br>            padding: 10px;<br>        }<br>    </style><br><div class=\"wandb-row\"><div class=\"wandb-col\"><h3>Run history:</h3><br/><table class=\"wandb\"><tr><td>accuracy</td><td>▁</td></tr><tr><td>class_0_f1</td><td>▁</td></tr><tr><td>class_0_precision</td><td>▁</td></tr><tr><td>class_0_recall</td><td>▁</td></tr><tr><td>class_1_f1</td><td>▁</td></tr><tr><td>class_1_precision</td><td>▁</td></tr><tr><td>class_1_recall</td><td>▁</td></tr><tr><td>class_2_f1</td><td>▁</td></tr><tr><td>class_2_precision</td><td>▁</td></tr><tr><td>class_2_recall</td><td>▁</td></tr></table><br/></div><div class=\"wandb-col\"><h3>Run summary:</h3><br/><table class=\"wandb\"><tr><td>accuracy</td><td>1</td></tr><tr><td>class_0_f1</td><td>1</td></tr><tr><td>class_0_precision</td><td>1</td></tr><tr><td>class_0_recall</td><td>1</td></tr><tr><td>class_1_f1</td><td>1</td></tr><tr><td>class_1_precision</td><td>1</td></tr><tr><td>class_1_recall</td><td>1</td></tr><tr><td>class_2_f1</td><td>1</td></tr><tr><td>class_2_precision</td><td>1</td></tr><tr><td>class_2_recall</td><td>1</td></tr></table><br/></div></div>"
            ]
          },
          "metadata": {}
        },
        {
          "output_type": "display_data",
          "data": {
            "text/plain": [
              "<IPython.core.display.HTML object>"
            ],
            "text/html": [
              " View run <strong style=\"color:#cdcd00\">baseline-run</strong> at: <a href='https://wandb.ai/ir2023/mlops-performance-monitoring/runs/oak8elts' target=\"_blank\">https://wandb.ai/ir2023/mlops-performance-monitoring/runs/oak8elts</a><br> View project at: <a href='https://wandb.ai/ir2023/mlops-performance-monitoring' target=\"_blank\">https://wandb.ai/ir2023/mlops-performance-monitoring</a><br>Synced 5 W&B file(s), 1 media file(s), 0 artifact file(s) and 0 other file(s)"
            ]
          },
          "metadata": {}
        },
        {
          "output_type": "display_data",
          "data": {
            "text/plain": [
              "<IPython.core.display.HTML object>"
            ],
            "text/html": [
              "Find logs at: <code>./wandb/run-20251028_044213-oak8elts/logs</code>"
            ]
          },
          "metadata": {}
        },
        {
          "output_type": "execute_result",
          "data": {
            "text/plain": [
              "1.0"
            ]
          },
          "metadata": {},
          "execution_count": 12
        }
      ]
    },
    {
      "cell_type": "code",
      "source": [
        "# Drifted run (simulate data shift)\n",
        "drifted_acc,run = train_and_log('drifted-run', n_estimators=50, random_state=99, simulate_shift=True)\n",
        "run.finish()\n",
        "drifted_acc"
      ],
      "metadata": {
        "colab": {
          "base_uri": "https://localhost:8080/",
          "height": 825
        },
        "id": "5IB3vQl_GdJD",
        "outputId": "887d435f-752b-4940-ab32-ea6bd3294dc1"
      },
      "execution_count": 13,
      "outputs": [
        {
          "output_type": "display_data",
          "data": {
            "text/plain": [
              "<IPython.core.display.HTML object>"
            ],
            "text/html": []
          },
          "metadata": {}
        },
        {
          "output_type": "display_data",
          "data": {
            "text/plain": [
              "<IPython.core.display.HTML object>"
            ],
            "text/html": [
              "Tracking run with wandb version 0.22.2"
            ]
          },
          "metadata": {}
        },
        {
          "output_type": "display_data",
          "data": {
            "text/plain": [
              "<IPython.core.display.HTML object>"
            ],
            "text/html": [
              "Run data is saved locally in <code>/content/wandb/run-20251028_044307-xtpj6mst</code>"
            ]
          },
          "metadata": {}
        },
        {
          "output_type": "display_data",
          "data": {
            "text/plain": [
              "<IPython.core.display.HTML object>"
            ],
            "text/html": [
              "Syncing run <strong><a href='https://wandb.ai/ir2023/mlops-performance-monitoring/runs/xtpj6mst' target=\"_blank\">drifted-run</a></strong> to <a href='https://wandb.ai/ir2023/mlops-performance-monitoring' target=\"_blank\">Weights & Biases</a> (<a href='https://wandb.me/developer-guide' target=\"_blank\">docs</a>)<br>"
            ]
          },
          "metadata": {}
        },
        {
          "output_type": "display_data",
          "data": {
            "text/plain": [
              "<IPython.core.display.HTML object>"
            ],
            "text/html": [
              " View project at <a href='https://wandb.ai/ir2023/mlops-performance-monitoring' target=\"_blank\">https://wandb.ai/ir2023/mlops-performance-monitoring</a>"
            ]
          },
          "metadata": {}
        },
        {
          "output_type": "display_data",
          "data": {
            "text/plain": [
              "<IPython.core.display.HTML object>"
            ],
            "text/html": [
              " View run at <a href='https://wandb.ai/ir2023/mlops-performance-monitoring/runs/xtpj6mst' target=\"_blank\">https://wandb.ai/ir2023/mlops-performance-monitoring/runs/xtpj6mst</a>"
            ]
          },
          "metadata": {}
        },
        {
          "output_type": "stream",
          "name": "stdout",
          "text": [
            "Run drifted-run logged. Accuracy = 0.6222\n"
          ]
        },
        {
          "output_type": "display_data",
          "data": {
            "text/plain": [
              "<IPython.core.display.HTML object>"
            ],
            "text/html": []
          },
          "metadata": {}
        },
        {
          "output_type": "display_data",
          "data": {
            "text/plain": [
              "<IPython.core.display.HTML object>"
            ],
            "text/html": [
              "<br>    <style><br>        .wandb-row {<br>            display: flex;<br>            flex-direction: row;<br>            flex-wrap: wrap;<br>            justify-content: flex-start;<br>            width: 100%;<br>        }<br>        .wandb-col {<br>            display: flex;<br>            flex-direction: column;<br>            flex-basis: 100%;<br>            flex: 1;<br>            padding: 10px;<br>        }<br>    </style><br><div class=\"wandb-row\"><div class=\"wandb-col\"><h3>Run history:</h3><br/><table class=\"wandb\"><tr><td>accuracy</td><td>▁</td></tr><tr><td>class_0_f1</td><td>▁</td></tr><tr><td>class_0_precision</td><td>▁</td></tr><tr><td>class_0_recall</td><td>▁</td></tr><tr><td>class_1_f1</td><td>▁</td></tr><tr><td>class_1_precision</td><td>▁</td></tr><tr><td>class_1_recall</td><td>▁</td></tr><tr><td>class_2_f1</td><td>▁</td></tr><tr><td>class_2_precision</td><td>▁</td></tr><tr><td>class_2_recall</td><td>▁</td></tr></table><br/></div><div class=\"wandb-col\"><h3>Run summary:</h3><br/><table class=\"wandb\"><tr><td>accuracy</td><td>0.62222</td></tr><tr><td>class_0_f1</td><td>0.73333</td></tr><tr><td>class_0_precision</td><td>1</td></tr><tr><td>class_0_recall</td><td>0.57895</td></tr><tr><td>class_1_f1</td><td>0.32</td></tr><tr><td>class_1_precision</td><td>0.33333</td></tr><tr><td>class_1_recall</td><td>0.30769</td></tr><tr><td>class_2_f1</td><td>0.74286</td></tr><tr><td>class_2_precision</td><td>0.59091</td></tr><tr><td>class_2_recall</td><td>1</td></tr></table><br/></div></div>"
            ]
          },
          "metadata": {}
        },
        {
          "output_type": "display_data",
          "data": {
            "text/plain": [
              "<IPython.core.display.HTML object>"
            ],
            "text/html": [
              " View run <strong style=\"color:#cdcd00\">drifted-run</strong> at: <a href='https://wandb.ai/ir2023/mlops-performance-monitoring/runs/xtpj6mst' target=\"_blank\">https://wandb.ai/ir2023/mlops-performance-monitoring/runs/xtpj6mst</a><br> View project at: <a href='https://wandb.ai/ir2023/mlops-performance-monitoring' target=\"_blank\">https://wandb.ai/ir2023/mlops-performance-monitoring</a><br>Synced 5 W&B file(s), 1 media file(s), 0 artifact file(s) and 0 other file(s)"
            ]
          },
          "metadata": {}
        },
        {
          "output_type": "display_data",
          "data": {
            "text/plain": [
              "<IPython.core.display.HTML object>"
            ],
            "text/html": [
              "Find logs at: <code>./wandb/run-20251028_044307-xtpj6mst/logs</code>"
            ]
          },
          "metadata": {}
        },
        {
          "output_type": "execute_result",
          "data": {
            "text/plain": [
              "0.6222222222222222"
            ]
          },
          "metadata": {},
          "execution_count": 13
        }
      ]
    },
    {
      "cell_type": "code",
      "source": [
        "# This cell demonstrates programmatic alerting. Replace threshold as appropriate.\n",
        "drifted_acc,run = train_and_log('drifted-run', simulate_shift=True)\n",
        "threshold = 0.85\n",
        "if drifted_acc < threshold:\n",
        "    wandb.alert(title='Low accuracy detected', text=f'Accuracy {drifted_acc:.3f} below threshold {threshold}', level=wandb.AlertLevel.WARN)\n",
        "    print('Alert sent (check W&B)')\n",
        "else:\n",
        "    print('Accuracy OK')\n",
        "\n",
        "run.finish()"
      ],
      "metadata": {
        "colab": {
          "base_uri": "https://localhost:8080/",
          "height": 825
        },
        "id": "6IZYYu1sH76g",
        "outputId": "b0d99e32-0442-429b-b91e-f1c3ff4590c7"
      },
      "execution_count": 14,
      "outputs": [
        {
          "output_type": "display_data",
          "data": {
            "text/plain": [
              "<IPython.core.display.HTML object>"
            ],
            "text/html": []
          },
          "metadata": {}
        },
        {
          "output_type": "display_data",
          "data": {
            "text/plain": [
              "<IPython.core.display.HTML object>"
            ],
            "text/html": [
              "Tracking run with wandb version 0.22.2"
            ]
          },
          "metadata": {}
        },
        {
          "output_type": "display_data",
          "data": {
            "text/plain": [
              "<IPython.core.display.HTML object>"
            ],
            "text/html": [
              "Run data is saved locally in <code>/content/wandb/run-20251028_044409-s40307wp</code>"
            ]
          },
          "metadata": {}
        },
        {
          "output_type": "display_data",
          "data": {
            "text/plain": [
              "<IPython.core.display.HTML object>"
            ],
            "text/html": [
              "Syncing run <strong><a href='https://wandb.ai/ir2023/mlops-performance-monitoring/runs/s40307wp' target=\"_blank\">drifted-run</a></strong> to <a href='https://wandb.ai/ir2023/mlops-performance-monitoring' target=\"_blank\">Weights & Biases</a> (<a href='https://wandb.me/developer-guide' target=\"_blank\">docs</a>)<br>"
            ]
          },
          "metadata": {}
        },
        {
          "output_type": "display_data",
          "data": {
            "text/plain": [
              "<IPython.core.display.HTML object>"
            ],
            "text/html": [
              " View project at <a href='https://wandb.ai/ir2023/mlops-performance-monitoring' target=\"_blank\">https://wandb.ai/ir2023/mlops-performance-monitoring</a>"
            ]
          },
          "metadata": {}
        },
        {
          "output_type": "display_data",
          "data": {
            "text/plain": [
              "<IPython.core.display.HTML object>"
            ],
            "text/html": [
              " View run at <a href='https://wandb.ai/ir2023/mlops-performance-monitoring/runs/s40307wp' target=\"_blank\">https://wandb.ai/ir2023/mlops-performance-monitoring/runs/s40307wp</a>"
            ]
          },
          "metadata": {}
        },
        {
          "output_type": "stream",
          "name": "stdout",
          "text": [
            "Run drifted-run logged. Accuracy = 0.7556\n",
            "Alert sent (check W&B)\n"
          ]
        },
        {
          "output_type": "display_data",
          "data": {
            "text/plain": [
              "<IPython.core.display.HTML object>"
            ],
            "text/html": []
          },
          "metadata": {}
        },
        {
          "output_type": "display_data",
          "data": {
            "text/plain": [
              "<IPython.core.display.HTML object>"
            ],
            "text/html": [
              "<br>    <style><br>        .wandb-row {<br>            display: flex;<br>            flex-direction: row;<br>            flex-wrap: wrap;<br>            justify-content: flex-start;<br>            width: 100%;<br>        }<br>        .wandb-col {<br>            display: flex;<br>            flex-direction: column;<br>            flex-basis: 100%;<br>            flex: 1;<br>            padding: 10px;<br>        }<br>    </style><br><div class=\"wandb-row\"><div class=\"wandb-col\"><h3>Run history:</h3><br/><table class=\"wandb\"><tr><td>accuracy</td><td>▁</td></tr><tr><td>class_0_f1</td><td>▁</td></tr><tr><td>class_0_precision</td><td>▁</td></tr><tr><td>class_0_recall</td><td>▁</td></tr><tr><td>class_1_f1</td><td>▁</td></tr><tr><td>class_1_precision</td><td>▁</td></tr><tr><td>class_1_recall</td><td>▁</td></tr><tr><td>class_2_f1</td><td>▁</td></tr><tr><td>class_2_precision</td><td>▁</td></tr><tr><td>class_2_recall</td><td>▁</td></tr></table><br/></div><div class=\"wandb-col\"><h3>Run summary:</h3><br/><table class=\"wandb\"><tr><td>accuracy</td><td>0.75556</td></tr><tr><td>class_0_f1</td><td>0.97297</td></tr><tr><td>class_0_precision</td><td>1</td></tr><tr><td>class_0_recall</td><td>0.94737</td></tr><tr><td>class_1_f1</td><td>0.35294</td></tr><tr><td>class_1_precision</td><td>0.75</td></tr><tr><td>class_1_recall</td><td>0.23077</td></tr><tr><td>class_2_f1</td><td>0.72222</td></tr><tr><td>class_2_precision</td><td>0.56522</td></tr><tr><td>class_2_recall</td><td>1</td></tr></table><br/></div></div>"
            ]
          },
          "metadata": {}
        },
        {
          "output_type": "display_data",
          "data": {
            "text/plain": [
              "<IPython.core.display.HTML object>"
            ],
            "text/html": [
              " View run <strong style=\"color:#cdcd00\">drifted-run</strong> at: <a href='https://wandb.ai/ir2023/mlops-performance-monitoring/runs/s40307wp' target=\"_blank\">https://wandb.ai/ir2023/mlops-performance-monitoring/runs/s40307wp</a><br> View project at: <a href='https://wandb.ai/ir2023/mlops-performance-monitoring' target=\"_blank\">https://wandb.ai/ir2023/mlops-performance-monitoring</a><br>Synced 5 W&B file(s), 1 media file(s), 0 artifact file(s) and 0 other file(s)"
            ]
          },
          "metadata": {}
        },
        {
          "output_type": "display_data",
          "data": {
            "text/plain": [
              "<IPython.core.display.HTML object>"
            ],
            "text/html": [
              "Find logs at: <code>./wandb/run-20251028_044409-s40307wp/logs</code>"
            ]
          },
          "metadata": {}
        }
      ]
    },
    {
      "cell_type": "code",
      "source": [],
      "metadata": {
        "id": "p_rZfmOAIK9L"
      },
      "execution_count": null,
      "outputs": []
    }
  ]
}