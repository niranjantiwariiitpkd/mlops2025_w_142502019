{
 "cells": [
  {
   "cell_type": "code",
   "execution_count": 6,
   "id": "b81aba98-3a82-4d69-a5cb-48c705d82fbe",
   "metadata": {
    "collapsed": true,
    "jupyter": {
     "outputs_hidden": true
    },
    "scrolled": true
   },
   "outputs": [
    {
     "name": "stdout",
     "output_type": "stream",
     "text": [
      "Defaulting to user installation because normal site-packages is not writeable\n",
      "Requirement already satisfied: openpyxl in c:\\programdata\\anaconda3\\lib\\site-packages (3.1.5)\n",
      "Requirement already satisfied: SQLAlchemy in c:\\programdata\\anaconda3\\lib\\site-packages (2.0.34)\n",
      "Requirement already satisfied: psycopg2-binary in c:\\users\\tiwar\\appdata\\roaming\\python\\python312\\site-packages (2.9.10)\n",
      "Requirement already satisfied: et-xmlfile in c:\\programdata\\anaconda3\\lib\\site-packages (from openpyxl) (1.1.0)\n",
      "Requirement already satisfied: typing-extensions>=4.6.0 in c:\\programdata\\anaconda3\\lib\\site-packages (from SQLAlchemy) (4.11.0)\n",
      "Requirement already satisfied: greenlet!=0.4.17 in c:\\programdata\\anaconda3\\lib\\site-packages (from SQLAlchemy) (3.0.1)\n"
     ]
    }
   ],
   "source": [
    "!pip install openpyxl SQLAlchemy psycopg2-binary\n"
   ]
  },
  {
   "cell_type": "code",
   "execution_count": 17,
   "id": "82c5f541-c9d5-4c62-b918-12c36f807743",
   "metadata": {
    "collapsed": true,
    "jupyter": {
     "outputs_hidden": true
    }
   },
   "outputs": [
    {
     "name": "stdout",
     "output_type": "stream",
     "text": [
      "Defaulting to user installation because normal site-packages is not writeable\n",
      "Collecting pymongo\n",
      "  Downloading pymongo-4.15.1-cp312-cp312-win_amd64.whl.metadata (22 kB)\n",
      "Collecting dnspython<3.0.0,>=1.16.0 (from pymongo)\n",
      "  Downloading dnspython-2.8.0-py3-none-any.whl.metadata (5.7 kB)\n",
      "Downloading pymongo-4.15.1-cp312-cp312-win_amd64.whl (910 kB)\n",
      "   ---------------------------------------- 0.0/910.6 kB ? eta -:--:--\n",
      "   ---------------------------------------- 0.0/910.6 kB ? eta -:--:--\n",
      "   ---------------------------------------- 0.0/910.6 kB ? eta -:--:--\n",
      "   ---------------------------------------- 0.0/910.6 kB ? eta -:--:--\n",
      "   ---------------------------------------- 0.0/910.6 kB ? eta -:--:--\n",
      "   ---------------------------------------- 0.0/910.6 kB ? eta -:--:--\n",
      "   ---------------------------------------- 0.0/910.6 kB ? eta -:--:--\n",
      "   ---------------------------------------- 0.0/910.6 kB ? eta -:--:--\n",
      "   ---------------------------------------- 0.0/910.6 kB ? eta -:--:--\n",
      "   ---------------------------------------- 0.0/910.6 kB ? eta -:--:--\n",
      "   ---------------------------------------- 0.0/910.6 kB ? eta -:--:--\n",
      "   ---------------------------------------- 0.0/910.6 kB ? eta -:--:--\n",
      "   ---------------------------------------- 0.0/910.6 kB ? eta -:--:--\n",
      "   ---------------------------------------- 0.0/910.6 kB ? eta -:--:--\n",
      "   ---------------------------------------- 0.0/910.6 kB ? eta -:--:--\n",
      "   ---------------------------------------- 0.0/910.6 kB ? eta -:--:--\n",
      "   ---------------------------------------- 0.0/910.6 kB ? eta -:--:--\n",
      "   ---------------------------------------- 0.0/910.6 kB ? eta -:--:--\n",
      "   ---------------------------------------- 0.0/910.6 kB ? eta -:--:--\n",
      "   ---------------------------------------- 0.0/910.6 kB ? eta -:--:--\n",
      "   ----------- ---------------------------- 262.1/910.6 kB ? eta -:--:--\n",
      "   ----------- ---------------------------- 262.1/910.6 kB ? eta -:--:--\n",
      "   ----------- ---------------------------- 262.1/910.6 kB ? eta -:--:--\n",
      "   ----------- ---------------------------- 262.1/910.6 kB ? eta -:--:--\n",
      "   ----------- ---------------------------- 262.1/910.6 kB ? eta -:--:--\n",
      "   ----------- ---------------------------- 262.1/910.6 kB ? eta -:--:--\n",
      "   ----------- ---------------------------- 262.1/910.6 kB ? eta -:--:--\n",
      "   ----------- ---------------------------- 262.1/910.6 kB ? eta -:--:--\n",
      "   ----------- ---------------------------- 262.1/910.6 kB ? eta -:--:--\n",
      "   ----------- ---------------------------- 262.1/910.6 kB ? eta -:--:--\n",
      "   ----------- ---------------------------- 262.1/910.6 kB ? eta -:--:--\n",
      "   ----------- ---------------------------- 262.1/910.6 kB ? eta -:--:--\n",
      "   ----------- ---------------------------- 262.1/910.6 kB ? eta -:--:--\n",
      "   ----------- ---------------------------- 262.1/910.6 kB ? eta -:--:--\n",
      "   ----------- ---------------------------- 262.1/910.6 kB ? eta -:--:--\n",
      "   ----------- ---------------------------- 262.1/910.6 kB ? eta -:--:--\n",
      "   ----------- ---------------------------- 262.1/910.6 kB ? eta -:--:--\n",
      "   ----------- ---------------------------- 262.1/910.6 kB ? eta -:--:--\n",
      "   ----------- ---------------------------- 262.1/910.6 kB ? eta -:--:--\n",
      "   ----------- ---------------------------- 262.1/910.6 kB ? eta -:--:--\n",
      "   ----------- ---------------------------- 262.1/910.6 kB ? eta -:--:--\n",
      "   ----------- ---------------------------- 262.1/910.6 kB ? eta -:--:--\n",
      "   ----------- ---------------------------- 262.1/910.6 kB ? eta -:--:--\n",
      "   ----------- ---------------------------- 262.1/910.6 kB ? eta -:--:--\n",
      "   ----------- ---------------------------- 262.1/910.6 kB ? eta -:--:--\n",
      "   ----------- ---------------------------- 262.1/910.6 kB ? eta -:--:--\n",
      "   ----------- ---------------------------- 262.1/910.6 kB ? eta -:--:--\n",
      "   ----------- ---------------------------- 262.1/910.6 kB ? eta -:--:--\n",
      "   ----------- ---------------------------- 262.1/910.6 kB ? eta -:--:--\n",
      "   ----------- ---------------------------- 262.1/910.6 kB ? eta -:--:--\n",
      "   ----------- ---------------------------- 262.1/910.6 kB ? eta -:--:--\n",
      "   ----------- ---------------------------- 262.1/910.6 kB ? eta -:--:--\n",
      "   ----------- ---------------------------- 262.1/910.6 kB ? eta -:--:--\n",
      "   ----------- ---------------------------- 262.1/910.6 kB ? eta -:--:--\n",
      "   ---------------------- ---------------- 524.3/910.6 kB 36.3 kB/s eta 0:00:11\n",
      "   ---------------------- ---------------- 524.3/910.6 kB 36.3 kB/s eta 0:00:11\n",
      "   ---------------------- ---------------- 524.3/910.6 kB 36.3 kB/s eta 0:00:11\n",
      "   ---------------------- ---------------- 524.3/910.6 kB 36.3 kB/s eta 0:00:11\n",
      "   ---------------------- ---------------- 524.3/910.6 kB 36.3 kB/s eta 0:00:11\n",
      "   ---------------------- ---------------- 524.3/910.6 kB 36.3 kB/s eta 0:00:11\n",
      "   ---------------------- ---------------- 524.3/910.6 kB 36.3 kB/s eta 0:00:11\n",
      "   ---------------------- ---------------- 524.3/910.6 kB 36.3 kB/s eta 0:00:11\n",
      "   ---------------------- ---------------- 524.3/910.6 kB 36.3 kB/s eta 0:00:11\n",
      "   ---------------------- ---------------- 524.3/910.6 kB 36.3 kB/s eta 0:00:11\n",
      "   ---------------------- ---------------- 524.3/910.6 kB 36.3 kB/s eta 0:00:11\n",
      "   ---------------------- ---------------- 524.3/910.6 kB 36.3 kB/s eta 0:00:11\n",
      "   ---------------------- ---------------- 524.3/910.6 kB 36.3 kB/s eta 0:00:11\n",
      "   ---------------------- ---------------- 524.3/910.6 kB 36.3 kB/s eta 0:00:11\n",
      "   ---------------------- ---------------- 524.3/910.6 kB 36.3 kB/s eta 0:00:11\n",
      "   ---------------------- ---------------- 524.3/910.6 kB 36.3 kB/s eta 0:00:11\n",
      "   ---------------------- ---------------- 524.3/910.6 kB 36.3 kB/s eta 0:00:11\n",
      "   ---------------------- ---------------- 524.3/910.6 kB 36.3 kB/s eta 0:00:11\n",
      "   ---------------------- ---------------- 524.3/910.6 kB 36.3 kB/s eta 0:00:11\n",
      "   ---------------------- ---------------- 524.3/910.6 kB 36.3 kB/s eta 0:00:11\n",
      "   ---------------------- ---------------- 524.3/910.6 kB 36.3 kB/s eta 0:00:11\n",
      "   ---------------------- ---------------- 524.3/910.6 kB 36.3 kB/s eta 0:00:11\n",
      "   ---------------------- ---------------- 524.3/910.6 kB 36.3 kB/s eta 0:00:11\n",
      "   ---------------------- ---------------- 524.3/910.6 kB 36.3 kB/s eta 0:00:11\n",
      "   ---------------------- ---------------- 524.3/910.6 kB 36.3 kB/s eta 0:00:11\n",
      "   --------------------------------- ----- 786.4/910.6 kB 41.4 kB/s eta 0:00:04\n",
      "   --------------------------------- ----- 786.4/910.6 kB 41.4 kB/s eta 0:00:04\n",
      "   --------------------------------- ----- 786.4/910.6 kB 41.4 kB/s eta 0:00:04\n",
      "   --------------------------------- ----- 786.4/910.6 kB 41.4 kB/s eta 0:00:04\n",
      "   --------------------------------- ----- 786.4/910.6 kB 41.4 kB/s eta 0:00:04\n",
      "   --------------------------------- ----- 786.4/910.6 kB 41.4 kB/s eta 0:00:04\n",
      "   --------------------------------- ----- 786.4/910.6 kB 41.4 kB/s eta 0:00:04\n",
      "   --------------------------------------- 910.6/910.6 kB 45.7 kB/s eta 0:00:00\n",
      "Downloading dnspython-2.8.0-py3-none-any.whl (331 kB)\n",
      "Installing collected packages: dnspython, pymongo\n",
      "Successfully installed dnspython-2.8.0 pymongo-4.15.1\n"
     ]
    }
   ],
   "source": [
    "!pip install pymongo"
   ]
  },
  {
   "cell_type": "code",
   "execution_count": 2,
   "id": "20e0711c-ec97-422e-9923-63cdd9d0e401",
   "metadata": {},
   "outputs": [],
   "source": [
    "# load_relational.py\n",
    "import pandas as pd\n",
    "from sqlalchemy import create_engine, text\n",
    "from sqlalchemy.exc import SQLAlchemyError\n"
   ]
  },
  {
   "cell_type": "code",
   "execution_count": 3,
   "id": "b4452cc6-54e8-4609-907a-21bb1171fa4a",
   "metadata": {},
   "outputs": [
    {
     "name": "stdout",
     "output_type": "stream",
     "text": [
      "Connected to PostgreSQL: PostgreSQL 16.1, compiled by Visual C++ build 1937, 64-bit\n"
     ]
    }
   ],
   "source": [
    "from sqlalchemy import create_engine, text\n",
    "\n",
    "DB_URI = \"postgresql+psycopg2://postgres@localhost:5432/uci_online_retail\"\n",
    "engine = create_engine(DB_URI)\n",
    "\n",
    "try:\n",
    "    with engine.connect() as conn:\n",
    "        version = conn.execute(text(\"SELECT version();\")).fetchone()\n",
    "        print(\"Connected to PostgreSQL:\", version[0])\n",
    "except Exception as e:\n",
    "    print(\"Connection failed:\", e)\n"
   ]
  },
  {
   "cell_type": "code",
   "execution_count": 4,
   "id": "ad793e39-2bc1-41b5-9bd8-ba2e38d73ac6",
   "metadata": {},
   "outputs": [
    {
     "name": "stdout",
     "output_type": "stream",
     "text": [
      "['customers', 'invoices', 'invoiceitems', 'products']\n"
     ]
    }
   ],
   "source": [
    "from sqlalchemy import create_engine, inspect\n",
    "\n",
    "DB_URI = \"postgresql+psycopg2://postgres@localhost:5432/uci_online_retail\"\n",
    "engine = create_engine(DB_URI)\n",
    "\n",
    "inspector = inspect(engine)\n",
    "print(inspector.get_table_names())\n"
   ]
  },
  {
   "cell_type": "code",
   "execution_count": null,
   "id": "c91453a0-075a-480d-8c62-17752e407619",
   "metadata": {},
   "outputs": [
    {
     "name": "stdout",
     "output_type": "stream",
     "text": [
      "Database error: (psycopg2.errors.UniqueViolation) duplicate key value violates unique constraint \"invoices_pkey\"\n",
      "DETAIL:  Key (invoiceno)=(536591) already exists.\n",
      "\n",
      "[SQL: INSERT INTO invoices (invoiceno, invoicedate, customerid) VALUES (%(invoiceno_m0)s, %(invoicedate_m0)s, %(customerid_m0)s), (%(invoiceno_m1)s, %(invoicedate_m1)s, %(customerid_m1)s), (%(invoiceno_m2)s, %(invoicedate_m2)s, %(customerid_m2)s), (%(invoiceno_m3)s, %(invoicedate_m3)s, %(customerid_m3)s), (%(invoiceno_m4)s, %(invoicedate_m4)s, %(customerid_m4)s), (%(invoiceno_m5)s, %(invoicedate_m5)s, %(customerid_m5)s), (%(invoiceno_m6)s, %(invoicedate_m6)s, %(customerid_m6)s), (%(invoiceno_m7)s, %(invoicedate_m7)s, %(customerid_m7)s), (%(invoiceno_m8)s, %(invoicedate_m8)s, %(customerid_m8)s), (%(invoiceno_m9)s, %(invoicedate_m9)s, %(customerid_m9)s), (%(invoiceno_m10)s, %(invoicedate_m10)s, %(customerid_m10)s), (%(invoiceno_m11)s, %(invoicedate_m11)s, %(customerid_m11)s), (%(invoiceno_m12)s, %(invoicedate_m12)s, %(customerid_m12)s), (%(invoiceno_m13)s, %(invoicedate_m13)s, %(customerid_m13)s), (%(invoiceno_m14)s, %(invoicedate_m14)s, %(customerid_m14)s), (%(invoiceno_m15)s, %(invoicedate_m15)s, %(customerid_m15)s), (%(invoiceno_m16)s, %(invoicedate_m16)s, %(customerid_m16)s), (%(invoiceno_m17)s, %(invoicedate_m17)s, %(customerid_m17)s), (%(invoiceno_m18)s, %(invoicedate_m18)s, %(customerid_m18)s), (%(invoiceno_m19)s, %(invoicedate_m19)s, %(customerid_m19)s), (%(invoiceno_m20)s, %(invoicedate_m20)s, %(customerid_m20)s), (%(invoiceno_m21)s, %(invoicedate_m21)s, %(customerid_m21)s), (%(invoiceno_m22)s, %(invoicedate_m22)s, %(customerid_m22)s), (%(invoiceno_m23)s, %(invoicedate_m23)s, %(customerid_m23)s), (%(invoiceno_m24)s, %(invoicedate_m24)s, %(customerid_m24)s), (%(invoiceno_m25)s, %(invoicedate_m25)s, %(customerid_m25)s), (%(invoiceno_m26)s, %(invoicedate_m26)s, %(customerid_m26)s), (%(invoiceno_m27)s, %(invoicedate_m27)s, %(customerid_m27)s), (%(invoiceno_m28)s, %(invoicedate_m28)s, %(customerid_m28)s), (%(invoiceno_m29)s, %(invoicedate_m29)s, %(customerid_m29)s), (%(invoiceno_m30)s, %(invoicedate_m30)s, %(customerid_m30)s), (%(invoiceno_m31)s, %(invoicedate_m31)s, %(customerid_m31)s), (%(invoiceno_m32)s, %(invoicedate_m32)s, %(customerid_m32)s), (%(invoiceno_m33)s, %(invoicedate_m33)s, %(customerid_m33)s), (%(invoiceno_m34)s, %(invoicedate_m34)s, %(customerid_m34)s), (%(invoiceno_m35)s, %(invoicedate_m35)s, %(customerid_m35)s), (%(invoiceno_m36)s, %(invoicedate_m36)s, %(customerid_m36)s), (%(invoiceno_m37)s, %(invoicedate_m37)s, %(customerid_m37)s), (%(invoiceno_m38)s, %(invoicedate_m38)s, %(customerid_m38)s), (%(invoiceno_m39)s, %(invoicedate_m39)s, %(customerid_m39)s), (%(invoiceno_m40)s, %(invoicedate_m40)s, %(customerid_m40)s), (%(invoiceno_m41)s, %(invoicedate_m41)s, %(customerid_m41)s), (%(invoiceno_m42)s, %(invoicedate_m42)s, %(customerid_m42)s), (%(invoiceno_m43)s, %(invoicedate_m43)s, %(customerid_m43)s), (%(invoiceno_m44)s, %(invoicedate_m44)s, %(customerid_m44)s), (%(invoiceno_m45)s, %(invoicedate_m45)s, %(customerid_m45)s), (%(invoiceno_m46)s, %(invoicedate_m46)s, %(customerid_m46)s), (%(invoiceno_m47)s, %(invoicedate_m47)s, %(customerid_m47)s), (%(invoiceno_m48)s, %(invoicedate_m48)s, %(customerid_m48)s), (%(invoiceno_m49)s, %(invoicedate_m49)s, %(customerid_m49)s), (%(invoiceno_m50)s, %(invoicedate_m50)s, %(customerid_m50)s), (%(invoiceno_m51)s, %(invoicedate_m51)s, %(customerid_m51)s), (%(invoiceno_m52)s, %(invoicedate_m52)s, %(customerid_m52)s), (%(invoiceno_m53)s, %(invoicedate_m53)s, %(customerid_m53)s), (%(invoiceno_m54)s, %(invoicedate_m54)s, %(customerid_m54)s), (%(invoiceno_m55)s, %(invoicedate_m55)s, %(customerid_m55)s), (%(invoiceno_m56)s, %(invoicedate_m56)s, %(customerid_m56)s), (%(invoiceno_m57)s, %(invoicedate_m57)s, %(customerid_m57)s), (%(invoiceno_m58)s, %(invoicedate_m58)s, %(customerid_m58)s), (%(invoiceno_m59)s, %(invoicedate_m59)s, %(customerid_m59)s), (%(invoiceno_m60)s, %(invoicedate_m60)s, %(customerid_m60)s), (%(invoiceno_m61)s, %(invoicedate_m61)s, %(customerid_m61)s), (%(invoiceno_m62)s, %(invoicedate_m62)s, %(customerid_m62)s), (%(invoiceno_m63)s, %(invoicedate_m63)s, %(customerid_m63)s), (%(invoiceno_m64)s, %(invoicedate_m64)s, %(customerid_m64)s), (%(invoiceno_m65)s, %(invoicedate_m65)s, %(customerid_m65)s), (%(invoiceno_m66)s, %(invoicedate_m66)s, %(customerid_m66)s), (%(invoiceno_m67)s, %(invoicedate_m67)s, %(customerid_m67)s), (%(invoiceno_m68)s, %(invoicedate_m68)s, %(customerid_m68)s), (%(invoiceno_m69)s, %(invoicedate_m69)s, %(customerid_m69)s), (%(invoiceno_m70)s, %(invoicedate_m70)s, %(customerid_m70)s), (%(invoiceno_m71)s, %(invoicedate_m71)s, %(customerid_m71)s), (%(invoiceno_m72)s, %(invoicedate_m72)s, %(customerid_m72)s), (%(invoiceno_m73)s, %(invoicedate_m73)s, %(customerid_m73)s), (%(invoiceno_m74)s, %(invoicedate_m74)s, %(customerid_m74)s), (%(invoiceno_m75)s, %(invoicedate_m75)s, %(customerid_m75)s), (%(invoiceno_m76)s, %(invoicedate_m76)s, %(customerid_m76)s), (%(invoiceno_m77)s, %(invoicedate_m77)s, %(customerid_m77)s), (%(invoiceno_m78)s, %(invoicedate_m78)s, %(customerid_m78)s), (%(invoiceno_m79)s, %(invoicedate_m79)s, %(customerid_m79)s), (%(invoiceno_m80)s, %(invoicedate_m80)s, %(customerid_m80)s), (%(invoiceno_m81)s, %(invoicedate_m81)s, %(customerid_m81)s), (%(invoiceno_m82)s, %(invoicedate_m82)s, %(customerid_m82)s), (%(invoiceno_m83)s, %(invoicedate_m83)s, %(customerid_m83)s), (%(invoiceno_m84)s, %(invoicedate_m84)s, %(customerid_m84)s), (%(invoiceno_m85)s, %(invoicedate_m85)s, %(customerid_m85)s), (%(invoiceno_m86)s, %(invoicedate_m86)s, %(customerid_m86)s), (%(invoiceno_m87)s, %(invoicedate_m87)s, %(customerid_m87)s), (%(invoiceno_m88)s, %(invoicedate_m88)s, %(customerid_m88)s), (%(invoiceno_m89)s, %(invoicedate_m89)s, %(customerid_m89)s), (%(invoiceno_m90)s, %(invoicedate_m90)s, %(customerid_m90)s), (%(invoiceno_m91)s, %(invoicedate_m91)s, %(customerid_m91)s), (%(invoiceno_m92)s, %(invoicedate_m92)s, %(customerid_m92)s), (%(invoiceno_m93)s, %(invoicedate_m93)s, %(customerid_m93)s), (%(invoiceno_m94)s, %(invoicedate_m94)s, %(customerid_m94)s), (%(invoiceno_m95)s, %(invoicedate_m95)s, %(customerid_m95)s), (%(invoiceno_m96)s, %(invoicedate_m96)s, %(customerid_m96)s), (%(invoiceno_m97)s, %(invoicedate_m97)s, %(customerid_m97)s), (%(invoiceno_m98)s, %(invoicedate_m98)s, %(customerid_m98)s), (%(invoiceno_m99)s, %(invoicedate_m99)s, %(customerid_m99)s), (%(invoiceno_m100)s, %(invoicedate_m100)s, %(customerid_m100)s), (%(invoiceno_m101)s, %(invoicedate_m101)s, %(customerid_m101)s), (%(invoiceno_m102)s, %(invoicedate_m102)s, %(customerid_m102)s), (%(invoiceno_m103)s, %(invoicedate_m103)s, %(customerid_m103)s), (%(invoiceno_m104)s, %(invoicedate_m104)s, %(customerid_m104)s), (%(invoiceno_m105)s, %(invoicedate_m105)s, %(customerid_m105)s), (%(invoiceno_m106)s, %(invoicedate_m106)s, %(customerid_m106)s), (%(invoiceno_m107)s, %(invoicedate_m107)s, %(customerid_m107)s), (%(invoiceno_m108)s, %(invoicedate_m108)s, %(customerid_m108)s), (%(invoiceno_m109)s, %(invoicedate_m109)s, %(customerid_m109)s), (%(invoiceno_m110)s, %(invoicedate_m110)s, %(customerid_m110)s), (%(invoiceno_m111)s, %(invoicedate_m111)s, %(customerid_m111)s), (%(invoiceno_m112)s, %(invoicedate_m112)s, %(customerid_m112)s), (%(invoiceno_m113)s, %(invoicedate_m113)s, %(customerid_m113)s), (%(invoiceno_m114)s, %(invoicedate_m114)s, %(customerid_m114)s), (%(invoiceno_m115)s, %(invoicedate_m115)s, %(customerid_m115)s), (%(invoiceno_m116)s, %(invoicedate_m116)s, %(customerid_m116)s), (%(invoiceno_m117)s, %(invoicedate_m117)s, %(customerid_m117)s), (%(invoiceno_m118)s, %(invoicedate_m118)s, %(customerid_m118)s), (%(invoiceno_m119)s, %(invoicedate_m119)s, %(customerid_m119)s), (%(invoiceno_m120)s, %(invoicedate_m120)s, %(customerid_m120)s), (%(invoiceno_m121)s, %(invoicedate_m121)s, %(customerid_m121)s), (%(invoiceno_m122)s, %(invoicedate_m122)s, %(customerid_m122)s), (%(invoiceno_m123)s, %(invoicedate_m123)s, %(customerid_m123)s), (%(invoiceno_m124)s, %(invoicedate_m124)s, %(customerid_m124)s), (%(invoiceno_m125)s, %(invoicedate_m125)s, %(customerid_m125)s), (%(invoiceno_m126)s, %(invoicedate_m126)s, %(customerid_m126)s), (%(invoiceno_m127)s, %(invoicedate_m127)s, %(customerid_m127)s), (%(invoiceno_m128)s, %(invoicedate_m128)s, %(customerid_m128)s), (%(invoiceno_m129)s, %(invoicedate_m129)s, %(customerid_m129)s), (%(invoiceno_m130)s, %(invoicedate_m130)s, %(customerid_m130)s), (%(invoiceno_m131)s, %(invoicedate_m131)s, %(customerid_m131)s), (%(invoiceno_m132)s, %(invoicedate_m132)s, %(customerid_m132)s), (%(invoiceno_m133)s, %(invoicedate_m133)s, %(customerid_m133)s), (%(invoiceno_m134)s, %(invoicedate_m134)s, %(customerid_m134)s), (%(invoiceno_m135)s, %(invoicedate_m135)s, %(customerid_m135)s), (%(invoiceno_m136)s, %(invoicedate_m136)s, %(customerid_m136)s), (%(invoiceno_m137)s, %(invoicedate_m137)s, %(customerid_m137)s), (%(invoiceno_m138)s, %(invoicedate_m138)s, %(customerid_m138)s), (%(invoiceno_m139)s, %(invoicedate_m139)s, %(customerid_m139)s), (%(invoiceno_m140)s, %(invoicedate_m140)s, %(customerid_m140)s), (%(invoiceno_m141)s, %(invoicedate_m141)s, %(customerid_m141)s), (%(invoiceno_m142)s, %(invoicedate_m142)s, %(customerid_m142)s), (%(invoiceno_m143)s, %(invoicedate_m143)s, %(customerid_m143)s), (%(invoiceno_m144)s, %(invoicedate_m144)s, %(customerid_m144)s), (%(invoiceno_m145)s, %(invoicedate_m145)s, %(customerid_m145)s), (%(invoiceno_m146)s, %(invoicedate_m146)s, %(customerid_m146)s), (%(invoiceno_m147)s, %(invoicedate_m147)s, %(customerid_m147)s), (%(invoiceno_m148)s, %(invoicedate_m148)s, %(customerid_m148)s), (%(invoiceno_m149)s, %(invoicedate_m149)s, %(customerid_m149)s), (%(invoiceno_m150)s, %(invoicedate_m150)s, %(customerid_m150)s), (%(invoiceno_m151)s, %(invoicedate_m151)s, %(customerid_m151)s), (%(invoiceno_m152)s, %(invoicedate_m152)s, %(customerid_m152)s), (%(invoiceno_m153)s, %(invoicedate_m153)s, %(customerid_m153)s), (%(invoiceno_m154)s, %(invoicedate_m154)s, %(customerid_m154)s), (%(invoiceno_m155)s, %(invoicedate_m155)s, %(customerid_m155)s), (%(invoiceno_m156)s, %(invoicedate_m156)s, %(customerid_m156)s), (%(invoiceno_m157)s, %(invoicedate_m157)s, %(customerid_m157)s), (%(invoiceno_m158)s, %(invoicedate_m158)s, %(customerid_m158)s), (%(invoiceno_m159)s, %(invoicedate_m159)s, %(customerid_m159)s), (%(invoiceno_m160)s, %(invoicedate_m160)s, %(customerid_m160)s), (%(invoiceno_m161)s, %(invoicedate_m161)s, %(customerid_m161)s), (%(invoiceno_m162)s, %(invoicedate_m162)s, %(customerid_m162)s), (%(invoiceno_m163)s, %(invoicedate_m163)s, %(customerid_m163)s), (%(invoiceno_m164)s, %(invoicedate_m164)s, %(customerid_m164)s), (%(invoiceno_m165)s, %(invoicedate_m165)s, %(customerid_m165)s), (%(invoiceno_m166)s, %(invoicedate_m166)s, %(customerid_m166)s), (%(invoiceno_m167)s, %(invoicedate_m167)s, %(customerid_m167)s), (%(invoiceno_m168)s, %(invoicedate_m168)s, %(customerid_m168)s), (%(invoiceno_m169)s, %(invoicedate_m169)s, %(customerid_m169)s), (%(invoiceno_m170)s, %(invoicedate_m170)s, %(customerid_m170)s), (%(invoiceno_m171)s, %(invoicedate_m171)s, %(customerid_m171)s), (%(invoiceno_m172)s, %(invoicedate_m172)s, %(customerid_m172)s), (%(invoiceno_m173)s, %(invoicedate_m173)s, %(customerid_m173)s), (%(invoiceno_m174)s, %(invoicedate_m174)s, %(customerid_m174)s), (%(invoiceno_m175)s, %(invoicedate_m175)s, %(customerid_m175)s), (%(invoiceno_m176)s, %(invoicedate_m176)s, %(customerid_m176)s), (%(invoiceno_m177)s, %(invoicedate_m177)s, %(customerid_m177)s), (%(invoiceno_m178)s, %(invoicedate_m178)s, %(customerid_m178)s), (%(invoiceno_m179)s, %(invoicedate_m179)s, %(customerid_m179)s), (%(invoiceno_m180)s, %(invoicedate_m180)s, %(customerid_m180)s), (%(invoiceno_m181)s, %(invoicedate_m181)s, %(customerid_m181)s), (%(invoiceno_m182)s, %(invoicedate_m182)s, %(customerid_m182)s), (%(invoiceno_m183)s, %(invoicedate_m183)s, %(customerid_m183)s), (%(invoiceno_m184)s, %(invoicedate_m184)s, %(customerid_m184)s), (%(invoiceno_m185)s, %(invoicedate_m185)s, %(customerid_m185)s), (%(invoiceno_m186)s, %(invoicedate_m186)s, %(customerid_m186)s), (%(invoiceno_m187)s, %(invoicedate_m187)s, %(customerid_m187)s), (%(invoiceno_m188)s, %(invoicedate_m188)s, %(customerid_m188)s), (%(invoiceno_m189)s, %(invoicedate_m189)s, %(customerid_m189)s), (%(invoiceno_m190)s, %(invoicedate_m190)s, %(customerid_m190)s), (%(invoiceno_m191)s, %(invoicedate_m191)s, %(customerid_m191)s), (%(invoiceno_m192)s, %(invoicedate_m192)s, %(customerid_m192)s), (%(invoiceno_m193)s, %(invoicedate_m193)s, %(customerid_m193)s), (%(invoiceno_m194)s, %(invoicedate_m194)s, %(customerid_m194)s), (%(invoiceno_m195)s, %(invoicedate_m195)s, %(customerid_m195)s), (%(invoiceno_m196)s, %(invoicedate_m196)s, %(customerid_m196)s), (%(invoiceno_m197)s, %(invoicedate_m197)s, %(customerid_m197)s), (%(invoiceno_m198)s, %(invoicedate_m198)s, %(customerid_m198)s), (%(invoiceno_m199)s, %(invoicedate_m199)s, %(customerid_m199)s), (%(invoiceno_m200)s, %(invoicedate_m200)s, %(customerid_m200)s), (%(invoiceno_m201)s, %(invoicedate_m201)s, %(customerid_m201)s), (%(invoiceno_m202)s, %(invoicedate_m202)s, %(customerid_m202)s), (%(invoiceno_m203)s, %(invoicedate_m203)s, %(customerid_m203)s), (%(invoiceno_m204)s, %(invoicedate_m204)s, %(customerid_m204)s), (%(invoiceno_m205)s, %(invoicedate_m205)s, %(customerid_m205)s), (%(invoiceno_m206)s, %(invoicedate_m206)s, %(customerid_m206)s), (%(invoiceno_m207)s, %(invoicedate_m207)s, %(customerid_m207)s), (%(invoiceno_m208)s, %(invoicedate_m208)s, %(customerid_m208)s), (%(invoiceno_m209)s, %(invoicedate_m209)s, %(customerid_m209)s), (%(invoiceno_m210)s, %(invoicedate_m210)s, %(customerid_m210)s), (%(invoiceno_m211)s, %(invoicedate_m211)s, %(customerid_m211)s), (%(invoiceno_m212)s, %(invoicedate_m212)s, %(customerid_m212)s), (%(invoiceno_m213)s, %(invoicedate_m213)s, %(customerid_m213)s), (%(invoiceno_m214)s, %(invoicedate_m214)s, %(customerid_m214)s), (%(invoiceno_m215)s, %(invoicedate_m215)s, %(customerid_m215)s), (%(invoiceno_m216)s, %(invoicedate_m216)s, %(customerid_m216)s), (%(invoiceno_m217)s, %(invoicedate_m217)s, %(customerid_m217)s), (%(invoiceno_m218)s, %(invoicedate_m218)s, %(customerid_m218)s), (%(invoiceno_m219)s, %(invoicedate_m219)s, %(customerid_m219)s), (%(invoiceno_m220)s, %(invoicedate_m220)s, %(customerid_m220)s), (%(invoiceno_m221)s, %(invoicedate_m221)s, %(customerid_m221)s), (%(invoiceno_m222)s, %(invoicedate_m222)s, %(customerid_m222)s), (%(invoiceno_m223)s, %(invoicedate_m223)s, %(customerid_m223)s), (%(invoiceno_m224)s, %(invoicedate_m224)s, %(customerid_m224)s), (%(invoiceno_m225)s, %(invoicedate_m225)s, %(customerid_m225)s), (%(invoiceno_m226)s, %(invoicedate_m226)s, %(customerid_m226)s), (%(invoiceno_m227)s, %(invoicedate_m227)s, %(customerid_m227)s), (%(invoiceno_m228)s, %(invoicedate_m228)s, %(customerid_m228)s), (%(invoiceno_m229)s, %(invoicedate_m229)s, %(customerid_m229)s), (%(invoiceno_m230)s, %(invoicedate_m230)s, %(customerid_m230)s), (%(invoiceno_m231)s, %(invoicedate_m231)s, %(customerid_m231)s), (%(invoiceno_m232)s, %(invoicedate_m232)s, %(customerid_m232)s), (%(invoiceno_m233)s, %(invoicedate_m233)s, %(customerid_m233)s), (%(invoiceno_m234)s, %(invoicedate_m234)s, %(customerid_m234)s), (%(invoiceno_m235)s, %(invoicedate_m235)s, %(customerid_m235)s), (%(invoiceno_m236)s, %(invoicedate_m236)s, %(customerid_m236)s), (%(invoiceno_m237)s, %(invoicedate_m237)s, %(customerid_m237)s), (%(invoiceno_m238)s, %(invoicedate_m238)s, %(customerid_m238)s), (%(invoiceno_m239)s, %(invoicedate_m239)s, %(customerid_m239)s), (%(invoiceno_m240)s, %(invoicedate_m240)s, %(customerid_m240)s), (%(invoiceno_m241)s, %(invoicedate_m241)s, %(customerid_m241)s), (%(invoiceno_m242)s, %(invoicedate_m242)s, %(customerid_m242)s), (%(invoiceno_m243)s, %(invoicedate_m243)s, %(customerid_m243)s), (%(invoiceno_m244)s, %(invoicedate_m244)s, %(customerid_m244)s), (%(invoiceno_m245)s, %(invoicedate_m245)s, %(customerid_m245)s), (%(invoiceno_m246)s, %(invoicedate_m246)s, %(customerid_m246)s), (%(invoiceno_m247)s, %(invoicedate_m247)s, %(customerid_m247)s), (%(invoiceno_m248)s, %(invoicedate_m248)s, %(customerid_m248)s), (%(invoiceno_m249)s, %(invoicedate_m249)s, %(customerid_m249)s), (%(invoiceno_m250)s, %(invoicedate_m250)s, %(customerid_m250)s), (%(invoiceno_m251)s, %(invoicedate_m251)s, %(customerid_m251)s), (%(invoiceno_m252)s, %(invoicedate_m252)s, %(customerid_m252)s), (%(invoiceno_m253)s, %(invoicedate_m253)s, %(customerid_m253)s), (%(invoiceno_m254)s, %(invoicedate_m254)s, %(customerid_m254)s), (%(invoiceno_m255)s, %(invoicedate_m255)s, %(customerid_m255)s), (%(invoiceno_m256)s, %(invoicedate_m256)s, %(customerid_m256)s), (%(invoiceno_m257)s, %(invoicedate_m257)s, %(customerid_m257)s), (%(invoiceno_m258)s, %(invoicedate_m258)s, %(customerid_m258)s), (%(invoiceno_m259)s, %(invoicedate_m259)s, %(customerid_m259)s), (%(invoiceno_m260)s, %(invoicedate_m260)s, %(customerid_m260)s), (%(invoiceno_m261)s, %(invoicedate_m261)s, %(customerid_m261)s), (%(invoiceno_m262)s, %(invoicedate_m262)s, %(customerid_m262)s), (%(invoiceno_m263)s, %(invoicedate_m263)s, %(customerid_m263)s), (%(invoiceno_m264)s, %(invoicedate_m264)s, %(customerid_m264)s), (%(invoiceno_m265)s, %(invoicedate_m265)s, %(customerid_m265)s), (%(invoiceno_m266)s, %(invoicedate_m266)s, %(customerid_m266)s), (%(invoiceno_m267)s, %(invoicedate_m267)s, %(customerid_m267)s), (%(invoiceno_m268)s, %(invoicedate_m268)s, %(customerid_m268)s), (%(invoiceno_m269)s, %(invoicedate_m269)s, %(customerid_m269)s), (%(invoiceno_m270)s, %(invoicedate_m270)s, %(customerid_m270)s), (%(invoiceno_m271)s, %(invoicedate_m271)s, %(customerid_m271)s), (%(invoiceno_m272)s, %(invoicedate_m272)s, %(customerid_m272)s), (%(invoiceno_m273)s, %(invoicedate_m273)s, %(customerid_m273)s), (%(invoiceno_m274)s, %(invoicedate_m274)s, %(customerid_m274)s), (%(invoiceno_m275)s, %(invoicedate_m275)s, %(customerid_m275)s), (%(invoiceno_m276)s, %(invoicedate_m276)s, %(customerid_m276)s), (%(invoiceno_m277)s, %(invoicedate_m277)s, %(customerid_m277)s), (%(invoiceno_m278)s, %(invoicedate_m278)s, %(customerid_m278)s), (%(invoiceno_m279)s, %(invoicedate_m279)s, %(customerid_m279)s), (%(invoiceno_m280)s, %(invoicedate_m280)s, %(customerid_m280)s), (%(invoiceno_m281)s, %(invoicedate_m281)s, %(customerid_m281)s), (%(invoiceno_m282)s, %(invoicedate_m282)s, %(customerid_m282)s), (%(invoiceno_m283)s, %(invoicedate_m283)s, %(customerid_m283)s), (%(invoiceno_m284)s, %(invoicedate_m284)s, %(customerid_m284)s), (%(invoiceno_m285)s, %(invoicedate_m285)s, %(customerid_m285)s), (%(invoiceno_m286)s, %(invoicedate_m286)s, %(customerid_m286)s), (%(invoiceno_m287)s, %(invoicedate_m287)s, %(customerid_m287)s), (%(invoiceno_m288)s, %(invoicedate_m288)s, %(customerid_m288)s), (%(invoiceno_m289)s, %(invoicedate_m289)s, %(customerid_m289)s), (%(invoiceno_m290)s, %(invoicedate_m290)s, %(customerid_m290)s), (%(invoiceno_m291)s, %(invoicedate_m291)s, %(customerid_m291)s), (%(invoiceno_m292)s, %(invoicedate_m292)s, %(customerid_m292)s), (%(invoiceno_m293)s, %(invoicedate_m293)s, %(customerid_m293)s), (%(invoiceno_m294)s, %(invoicedate_m294)s, %(customerid_m294)s), (%(invoiceno_m295)s, %(invoicedate_m295)s, %(customerid_m295)s), (%(invoiceno_m296)s, %(invoicedate_m296)s, %(customerid_m296)s), (%(invoiceno_m297)s, %(invoicedate_m297)s, %(customerid_m297)s), (%(invoiceno_m298)s, %(invoicedate_m298)s, %(customerid_m298)s), (%(invoiceno_m299)s, %(invoicedate_m299)s, %(customerid_m299)s), (%(invoiceno_m300)s, %(invoicedate_m300)s, %(customerid_m300)s)]\n",
      "[parameters: {'invoiceno_m0': 536365, 'invoicedate_m0': datetime.datetime(2010, 12, 1, 8, 26), 'customerid_m0': 17850, 'invoiceno_m1': 536366, 'invoicedate_m1': datetime.datetime(2010, 12, 1, 8, 28), 'customerid_m1': 17850, 'invoiceno_m2': 536367, 'invoicedate_m2': datetime.datetime(2010, 12, 1, 8, 34), 'customerid_m2': 13047, 'invoiceno_m3': 536368, 'invoicedate_m3': datetime.datetime(2010, 12, 1, 8, 34), 'customerid_m3': 13047, 'invoiceno_m4': 536369, 'invoicedate_m4': datetime.datetime(2010, 12, 1, 8, 35), 'customerid_m4': 13047, 'invoiceno_m5': 536370, 'invoicedate_m5': datetime.datetime(2010, 12, 1, 8, 45), 'customerid_m5': 12583, 'invoiceno_m6': 536371, 'invoicedate_m6': datetime.datetime(2010, 12, 1, 9, 0), 'customerid_m6': 13748, 'invoiceno_m7': 536372, 'invoicedate_m7': datetime.datetime(2010, 12, 1, 9, 1), 'customerid_m7': 17850, 'invoiceno_m8': 536373, 'invoicedate_m8': datetime.datetime(2010, 12, 1, 9, 2), 'customerid_m8': 17850, 'invoiceno_m9': 536374, 'invoicedate_m9': datetime.datetime(2010, 12, 1, 9, 9), 'customerid_m9': 15100, 'invoiceno_m10': 536375, 'invoicedate_m10': datetime.datetime(2010, 12, 1, 9, 32), 'customerid_m10': 17850, 'invoiceno_m11': 536376, 'invoicedate_m11': datetime.datetime(2010, 12, 1, 9, 32), 'customerid_m11': 15291, 'invoiceno_m12': 536377, 'invoicedate_m12': datetime.datetime(2010, 12, 1, 9, 34), 'customerid_m12': 17850, 'invoiceno_m13': 536378, 'invoicedate_m13': datetime.datetime(2010, 12, 1, 9, 37), 'customerid_m13': 14688, 'invoiceno_m14': 536380, 'invoicedate_m14': datetime.datetime(2010, 12, 1, 9, 41), 'customerid_m14': 17809, 'invoiceno_m15': 536381, 'invoicedate_m15': datetime.datetime(2010, 12, 1, 9, 41), 'customerid_m15': 15311, 'invoiceno_m16': 'C536379', 'invoicedate_m16': datetime.datetime(2010, 12, 1, 9, 41) ... 803 parameters truncated ... 'invoicedate_m284': datetime.datetime(2010, 12, 2, 17, 14), 'customerid_m284': 18168, 'invoiceno_m285': 536821, 'invoicedate_m285': datetime.datetime(2010, 12, 2, 17, 17), 'customerid_m285': 17757, 'invoiceno_m286': 'C536822', 'invoicedate_m286': datetime.datetime(2010, 12, 2, 17, 19), 'customerid_m286': 14625, 'invoiceno_m287': 536823, 'invoicedate_m287': datetime.datetime(2010, 12, 2, 17, 22), 'customerid_m287': 13011, 'invoiceno_m288': 536824, 'invoicedate_m288': datetime.datetime(2010, 12, 2, 17, 24), 'customerid_m288': 13798, 'invoiceno_m289': 'C536825', 'invoicedate_m289': datetime.datetime(2010, 12, 2, 17, 27), 'customerid_m289': 15384, 'invoiceno_m290': 'C536826', 'invoicedate_m290': datetime.datetime(2010, 12, 2, 17, 30), 'customerid_m290': 17924, 'invoiceno_m291': 'C536827', 'invoicedate_m291': datetime.datetime(2010, 12, 2, 17, 31), 'customerid_m291': 13408, 'invoiceno_m292': 'C536828', 'invoicedate_m292': datetime.datetime(2010, 12, 2, 17, 35), 'customerid_m292': 14264, 'invoiceno_m293': 'C536829', 'invoicedate_m293': datetime.datetime(2010, 12, 2, 17, 36), 'customerid_m293': 13295, 'invoiceno_m294': 536830, 'invoicedate_m294': datetime.datetime(2010, 12, 2, 17, 38), 'customerid_m294': 16754, 'invoiceno_m295': 536831, 'invoicedate_m295': datetime.datetime(2010, 12, 2, 17, 40), 'customerid_m295': 16029, 'invoiceno_m296': 536832, 'invoicedate_m296': datetime.datetime(2010, 12, 2, 17, 41), 'customerid_m296': 16634, 'invoiceno_m297': 536833, 'invoicedate_m297': datetime.datetime(2010, 12, 2, 17, 48), 'customerid_m297': 18239, 'invoiceno_m298': 536834, 'invoicedate_m298': datetime.datetime(2010, 12, 2, 17, 51), 'customerid_m298': 14576, 'invoiceno_m299': 536835, 'invoicedate_m299': datetime.datetime(2010, 12, 2, 18, 6), 'customerid_m299': 13145, 'invoiceno_m300': 536836, 'invoicedate_m300': datetime.datetime(2010, 12, 2, 18, 8), 'customerid_m300': 18168}]\n",
      "(Background on this error at: https://sqlalche.me/e/20/gkpj)\n",
      "InvoiceItems count: 0\n"
     ]
    }
   ],
   "source": [
    "import pandas as pd\n",
    "from sqlalchemy import create_engine\n",
    "from sqlalchemy.exc import SQLAlchemyError\n",
    "\n",
    "DB_URI = \"postgresql+psycopg2://postgres@localhost:5432/uci_online_retail\"\n",
    "engine = create_engine(DB_URI, pool_size=10, max_overflow=20)\n",
    "\n",
    "df = pd.read_excel(\"Online_Retail.xlsx\")\n",
    "df = df.dropna(subset=[\"InvoiceNo\"])\n",
    "df[\"Quantity\"] = df[\"Quantity\"].astype(float).astype(int)\n",
    "df[\"UnitPrice\"] = df[\"UnitPrice\"].astype(float)\n",
    "df[\"CustomerID\"] = df[\"CustomerID\"].fillna(\"\").astype(str)\n",
    "df[\"InvoiceDate\"] = pd.to_datetime(df[\"InvoiceDate\"], dayfirst=True, errors=\"coerce\")\n",
    "df = df.head(5000)  # Limit\n",
    "\n",
    "# Prepare Customers table\n",
    "customers = (\n",
    "    df[df[\"CustomerID\"] != \"\"][[\"CustomerID\", \"Country\"]]\n",
    "    .drop_duplicates(subset=[\"CustomerID\"])\n",
    "    .copy()\n",
    ")\n",
    "customers[\"CustomerID\"] = pd.to_numeric(customers[\"CustomerID\"], errors='coerce').dropna().astype(int)\n",
    "customers.columns = customers.columns.str.lower()\n",
    "\n",
    "# Prepare Products table \n",
    "products = (\n",
    "    df[[\"StockCode\", \"Description\", \"UnitPrice\"]]\n",
    "    .drop_duplicates(subset=[\"StockCode\"])\n",
    "    .copy()\n",
    ")\n",
    "products.columns = products.columns.str.lower()\n",
    "\n",
    "# Prepare Invoices table\n",
    "invoices = df[[\"InvoiceNo\", \"InvoiceDate\", \"CustomerID\"]].drop_duplicates()\n",
    "invoices[\"CustomerID\"] = pd.to_numeric(invoices[\"CustomerID\"], errors='coerce').astype('Int64')\n",
    "invoices.columns = invoices.columns.str.lower()\n",
    "\n",
    "# Prepare InvoiceItems table\n",
    "invoice_items = df[[\"InvoiceNo\", \"StockCode\", \"Quantity\", \"UnitPrice\"]].dropna(subset=[\"InvoiceNo\", \"StockCode\"])\n",
    "invoice_items.columns = invoice_items.columns.str.lower()\n",
    "\n",
    "# Insert into PostgreSQL\n",
    "with engine.begin() as conn:\n",
    "    try:\n",
    "        customers.to_sql(\"customers\", conn, if_exists=\"append\", index=False, method=\"multi\")\n",
    "        products.to_sql(\"products\", conn, if_exists=\"append\", index=False, method=\"multi\")\n",
    "        invoices.to_sql(\"invoices\", conn, if_exists=\"append\", index=False, method=\"multi\")\n",
    "        invoice_items.to_sql(\"invoiceitems\", conn, if_exists=\"append\", index=False, method=\"multi\")\n",
    "        print(\" Inserted records successfully.\")\n",
    "    except SQLAlchemyError as e:\n",
    "        print(\"Database error:\", e)\n",
    "\n",
    "# Verify insert\n",
    "with engine.connect() as conn:\n",
    "    count = pd.read_sql(\"SELECT COUNT(*) FROM invoiceitems\", conn)\n",
    "    print(\"InvoiceItems count:\", count.iloc[0, 0])\n"
   ]
  },
  {
   "cell_type": "markdown",
   "id": "ea23c7e1",
   "metadata": {},
   "source": [
    "## Error due to Multiple Runs and the Items already inserted to sql Database"
   ]
  },
  {
   "cell_type": "markdown",
   "id": "97f13faa",
   "metadata": {},
   "source": []
  }
 ],
 "metadata": {
  "kernelspec": {
   "display_name": "Python 3 (ipykernel)",
   "language": "python",
   "name": "python3"
  },
  "language_info": {
   "codemirror_mode": {
    "name": "ipython",
    "version": 3
   },
   "file_extension": ".py",
   "mimetype": "text/x-python",
   "name": "python",
   "nbconvert_exporter": "python",
   "pygments_lexer": "ipython3",
   "version": "3.12.7"
  }
 },
 "nbformat": 4,
 "nbformat_minor": 5
}
